{
 "cells": [
  {
   "cell_type": "code",
   "execution_count": 1,
   "metadata": {},
   "outputs": [],
   "source": [
    "import numpy as np\n",
    "import pandas as pd\n",
    "import seaborn as sns\n",
    "import matplotlib.pyplot as plt\n",
    "from sklearn.model_selection import train_test_split"
   ]
  },
  {
   "cell_type": "code",
   "execution_count": 2,
   "metadata": {},
   "outputs": [],
   "source": [
    "dataset=pd.read_csv(r'C:\\Users\\MY\\Downloads\\jyothsna\\train.csv')"
   ]
  },
  {
   "cell_type": "code",
   "execution_count": 3,
   "metadata": {},
   "outputs": [
    {
     "data": {
      "text/html": [
       "<div>\n",
       "<style scoped>\n",
       "    .dataframe tbody tr th:only-of-type {\n",
       "        vertical-align: middle;\n",
       "    }\n",
       "\n",
       "    .dataframe tbody tr th {\n",
       "        vertical-align: top;\n",
       "    }\n",
       "\n",
       "    .dataframe thead th {\n",
       "        text-align: right;\n",
       "    }\n",
       "</style>\n",
       "<table border=\"1\" class=\"dataframe\">\n",
       "  <thead>\n",
       "    <tr style=\"text-align: right;\">\n",
       "      <th></th>\n",
       "      <th>User_ID</th>\n",
       "      <th>Product_ID</th>\n",
       "      <th>Gender</th>\n",
       "      <th>Age</th>\n",
       "      <th>Occupation</th>\n",
       "      <th>City_Category</th>\n",
       "      <th>Stay_In_Current_City_Years</th>\n",
       "      <th>Marital_Status</th>\n",
       "      <th>Product_Category_1</th>\n",
       "      <th>Product_Category_2</th>\n",
       "      <th>Product_Category_3</th>\n",
       "      <th>Purchase</th>\n",
       "    </tr>\n",
       "  </thead>\n",
       "  <tbody>\n",
       "    <tr>\n",
       "      <th>0</th>\n",
       "      <td>1000001</td>\n",
       "      <td>P00069042</td>\n",
       "      <td>F</td>\n",
       "      <td>0-17</td>\n",
       "      <td>10</td>\n",
       "      <td>A</td>\n",
       "      <td>2</td>\n",
       "      <td>0</td>\n",
       "      <td>3</td>\n",
       "      <td>NaN</td>\n",
       "      <td>NaN</td>\n",
       "      <td>8370</td>\n",
       "    </tr>\n",
       "    <tr>\n",
       "      <th>1</th>\n",
       "      <td>1000001</td>\n",
       "      <td>P00248942</td>\n",
       "      <td>F</td>\n",
       "      <td>0-17</td>\n",
       "      <td>10</td>\n",
       "      <td>A</td>\n",
       "      <td>2</td>\n",
       "      <td>0</td>\n",
       "      <td>1</td>\n",
       "      <td>6.0</td>\n",
       "      <td>14.0</td>\n",
       "      <td>15200</td>\n",
       "    </tr>\n",
       "    <tr>\n",
       "      <th>2</th>\n",
       "      <td>1000001</td>\n",
       "      <td>P00087842</td>\n",
       "      <td>F</td>\n",
       "      <td>0-17</td>\n",
       "      <td>10</td>\n",
       "      <td>A</td>\n",
       "      <td>2</td>\n",
       "      <td>0</td>\n",
       "      <td>12</td>\n",
       "      <td>NaN</td>\n",
       "      <td>NaN</td>\n",
       "      <td>1422</td>\n",
       "    </tr>\n",
       "    <tr>\n",
       "      <th>3</th>\n",
       "      <td>1000001</td>\n",
       "      <td>P00085442</td>\n",
       "      <td>F</td>\n",
       "      <td>0-17</td>\n",
       "      <td>10</td>\n",
       "      <td>A</td>\n",
       "      <td>2</td>\n",
       "      <td>0</td>\n",
       "      <td>12</td>\n",
       "      <td>14.0</td>\n",
       "      <td>NaN</td>\n",
       "      <td>1057</td>\n",
       "    </tr>\n",
       "    <tr>\n",
       "      <th>4</th>\n",
       "      <td>1000002</td>\n",
       "      <td>P00285442</td>\n",
       "      <td>M</td>\n",
       "      <td>55+</td>\n",
       "      <td>16</td>\n",
       "      <td>C</td>\n",
       "      <td>4+</td>\n",
       "      <td>0</td>\n",
       "      <td>8</td>\n",
       "      <td>NaN</td>\n",
       "      <td>NaN</td>\n",
       "      <td>7969</td>\n",
       "    </tr>\n",
       "  </tbody>\n",
       "</table>\n",
       "</div>"
      ],
      "text/plain": [
       "   User_ID Product_ID Gender   Age  Occupation City_Category  \\\n",
       "0  1000001  P00069042      F  0-17          10             A   \n",
       "1  1000001  P00248942      F  0-17          10             A   \n",
       "2  1000001  P00087842      F  0-17          10             A   \n",
       "3  1000001  P00085442      F  0-17          10             A   \n",
       "4  1000002  P00285442      M   55+          16             C   \n",
       "\n",
       "  Stay_In_Current_City_Years  Marital_Status  Product_Category_1  \\\n",
       "0                          2               0                   3   \n",
       "1                          2               0                   1   \n",
       "2                          2               0                  12   \n",
       "3                          2               0                  12   \n",
       "4                         4+               0                   8   \n",
       "\n",
       "   Product_Category_2  Product_Category_3  Purchase  \n",
       "0                 NaN                 NaN      8370  \n",
       "1                 6.0                14.0     15200  \n",
       "2                 NaN                 NaN      1422  \n",
       "3                14.0                 NaN      1057  \n",
       "4                 NaN                 NaN      7969  "
      ]
     },
     "execution_count": 3,
     "metadata": {},
     "output_type": "execute_result"
    }
   ],
   "source": [
    "dataset.head()"
   ]
  },
  {
   "cell_type": "code",
   "execution_count": 4,
   "metadata": {},
   "outputs": [
    {
     "data": {
      "text/plain": [
       "User_ID                       False\n",
       "Product_ID                    False\n",
       "Gender                        False\n",
       "Age                           False\n",
       "Occupation                    False\n",
       "City_Category                 False\n",
       "Stay_In_Current_City_Years    False\n",
       "Marital_Status                False\n",
       "Product_Category_1            False\n",
       "Product_Category_2             True\n",
       "Product_Category_3             True\n",
       "Purchase                      False\n",
       "dtype: bool"
      ]
     },
     "execution_count": 4,
     "metadata": {},
     "output_type": "execute_result"
    }
   ],
   "source": [
    "dataset.isnull().any()"
   ]
  },
  {
   "cell_type": "code",
   "execution_count": 5,
   "metadata": {},
   "outputs": [
    {
     "data": {
      "text/plain": [
       "9.842329251122386"
      ]
     },
     "execution_count": 5,
     "metadata": {},
     "output_type": "execute_result"
    }
   ],
   "source": [
    "m1 = dataset['Product_Category_2'].mean()\n",
    "m1"
   ]
  },
  {
   "cell_type": "code",
   "execution_count": 6,
   "metadata": {},
   "outputs": [
    {
     "data": {
      "text/plain": [
       "12.668243206790512"
      ]
     },
     "execution_count": 6,
     "metadata": {},
     "output_type": "execute_result"
    }
   ],
   "source": [
    "m2 = dataset['Product_Category_3'].mean()\n",
    "m2"
   ]
  },
  {
   "cell_type": "code",
   "execution_count": 7,
   "metadata": {},
   "outputs": [],
   "source": [
    "dataset['Product_Category_2'].fillna(m1,inplace=True)\n",
    "dataset['Product_Category_3'].fillna(m2,inplace=True)"
   ]
  },
  {
   "cell_type": "code",
   "execution_count": 8,
   "metadata": {},
   "outputs": [
    {
     "data": {
      "text/plain": [
       "User_ID                       False\n",
       "Product_ID                    False\n",
       "Gender                        False\n",
       "Age                           False\n",
       "Occupation                    False\n",
       "City_Category                 False\n",
       "Stay_In_Current_City_Years    False\n",
       "Marital_Status                False\n",
       "Product_Category_1            False\n",
       "Product_Category_2            False\n",
       "Product_Category_3            False\n",
       "Purchase                      False\n",
       "dtype: bool"
      ]
     },
     "execution_count": 8,
     "metadata": {},
     "output_type": "execute_result"
    }
   ],
   "source": [
    "dataset.isnull().any()"
   ]
  },
  {
   "cell_type": "code",
   "execution_count": 9,
   "metadata": {},
   "outputs": [],
   "source": [
    "dataset.drop(['User_ID'],axis=1,inplace=True)"
   ]
  },
  {
   "cell_type": "code",
   "execution_count": 10,
   "metadata": {},
   "outputs": [
    {
     "data": {
      "text/html": [
       "<div>\n",
       "<style scoped>\n",
       "    .dataframe tbody tr th:only-of-type {\n",
       "        vertical-align: middle;\n",
       "    }\n",
       "\n",
       "    .dataframe tbody tr th {\n",
       "        vertical-align: top;\n",
       "    }\n",
       "\n",
       "    .dataframe thead th {\n",
       "        text-align: right;\n",
       "    }\n",
       "</style>\n",
       "<table border=\"1\" class=\"dataframe\">\n",
       "  <thead>\n",
       "    <tr style=\"text-align: right;\">\n",
       "      <th></th>\n",
       "      <th>Product_ID</th>\n",
       "      <th>Gender</th>\n",
       "      <th>Age</th>\n",
       "      <th>Occupation</th>\n",
       "      <th>City_Category</th>\n",
       "      <th>Stay_In_Current_City_Years</th>\n",
       "      <th>Marital_Status</th>\n",
       "      <th>Product_Category_1</th>\n",
       "      <th>Product_Category_2</th>\n",
       "      <th>Product_Category_3</th>\n",
       "      <th>Purchase</th>\n",
       "    </tr>\n",
       "  </thead>\n",
       "  <tbody>\n",
       "    <tr>\n",
       "      <th>0</th>\n",
       "      <td>P00069042</td>\n",
       "      <td>F</td>\n",
       "      <td>0-17</td>\n",
       "      <td>10</td>\n",
       "      <td>A</td>\n",
       "      <td>2</td>\n",
       "      <td>0</td>\n",
       "      <td>3</td>\n",
       "      <td>9.842329</td>\n",
       "      <td>12.668243</td>\n",
       "      <td>8370</td>\n",
       "    </tr>\n",
       "    <tr>\n",
       "      <th>1</th>\n",
       "      <td>P00248942</td>\n",
       "      <td>F</td>\n",
       "      <td>0-17</td>\n",
       "      <td>10</td>\n",
       "      <td>A</td>\n",
       "      <td>2</td>\n",
       "      <td>0</td>\n",
       "      <td>1</td>\n",
       "      <td>6.000000</td>\n",
       "      <td>14.000000</td>\n",
       "      <td>15200</td>\n",
       "    </tr>\n",
       "    <tr>\n",
       "      <th>2</th>\n",
       "      <td>P00087842</td>\n",
       "      <td>F</td>\n",
       "      <td>0-17</td>\n",
       "      <td>10</td>\n",
       "      <td>A</td>\n",
       "      <td>2</td>\n",
       "      <td>0</td>\n",
       "      <td>12</td>\n",
       "      <td>9.842329</td>\n",
       "      <td>12.668243</td>\n",
       "      <td>1422</td>\n",
       "    </tr>\n",
       "    <tr>\n",
       "      <th>3</th>\n",
       "      <td>P00085442</td>\n",
       "      <td>F</td>\n",
       "      <td>0-17</td>\n",
       "      <td>10</td>\n",
       "      <td>A</td>\n",
       "      <td>2</td>\n",
       "      <td>0</td>\n",
       "      <td>12</td>\n",
       "      <td>14.000000</td>\n",
       "      <td>12.668243</td>\n",
       "      <td>1057</td>\n",
       "    </tr>\n",
       "    <tr>\n",
       "      <th>4</th>\n",
       "      <td>P00285442</td>\n",
       "      <td>M</td>\n",
       "      <td>55+</td>\n",
       "      <td>16</td>\n",
       "      <td>C</td>\n",
       "      <td>4+</td>\n",
       "      <td>0</td>\n",
       "      <td>8</td>\n",
       "      <td>9.842329</td>\n",
       "      <td>12.668243</td>\n",
       "      <td>7969</td>\n",
       "    </tr>\n",
       "  </tbody>\n",
       "</table>\n",
       "</div>"
      ],
      "text/plain": [
       "  Product_ID Gender   Age  Occupation City_Category  \\\n",
       "0  P00069042      F  0-17          10             A   \n",
       "1  P00248942      F  0-17          10             A   \n",
       "2  P00087842      F  0-17          10             A   \n",
       "3  P00085442      F  0-17          10             A   \n",
       "4  P00285442      M   55+          16             C   \n",
       "\n",
       "  Stay_In_Current_City_Years  Marital_Status  Product_Category_1  \\\n",
       "0                          2               0                   3   \n",
       "1                          2               0                   1   \n",
       "2                          2               0                  12   \n",
       "3                          2               0                  12   \n",
       "4                         4+               0                   8   \n",
       "\n",
       "   Product_Category_2  Product_Category_3  Purchase  \n",
       "0            9.842329           12.668243      8370  \n",
       "1            6.000000           14.000000     15200  \n",
       "2            9.842329           12.668243      1422  \n",
       "3           14.000000           12.668243      1057  \n",
       "4            9.842329           12.668243      7969  "
      ]
     },
     "execution_count": 10,
     "metadata": {},
     "output_type": "execute_result"
    }
   ],
   "source": [
    "dataset.head()"
   ]
  },
  {
   "cell_type": "code",
   "execution_count": 11,
   "metadata": {},
   "outputs": [],
   "source": [
    "dataset['Product_ID']=(dataset['Product_ID'].str.strip('P').astype('int'))"
   ]
  },
  {
   "cell_type": "code",
   "execution_count": 12,
   "metadata": {},
   "outputs": [],
   "source": [
    "dataset['Age']=(dataset['Age'].str.strip('+'))"
   ]
  },
  {
   "cell_type": "code",
   "execution_count": 13,
   "metadata": {},
   "outputs": [
    {
     "data": {
      "text/plain": [
       "26-35    219587\n",
       "36-45    110013\n",
       "18-25     99660\n",
       "46-50     45701\n",
       "51-55     38501\n",
       "55        21504\n",
       "0-17      15102\n",
       "Name: Age, dtype: int64"
      ]
     },
     "execution_count": 13,
     "metadata": {},
     "output_type": "execute_result"
    }
   ],
   "source": [
    "dataset['Age'].value_counts()"
   ]
  },
  {
   "cell_type": "code",
   "execution_count": 14,
   "metadata": {},
   "outputs": [],
   "source": [
    "dataset['Age'].replace(['0-17','18-25','26-35','36-45','46-50','51-55','55'],[1,2,3,4,5,6,7],inplace=True)"
   ]
  },
  {
   "cell_type": "code",
   "execution_count": 15,
   "metadata": {},
   "outputs": [],
   "source": [
    "dataset['Stay_In_Current_City_Years']=(dataset['Stay_In_Current_City_Years'].str.strip('+').astype('float'))"
   ]
  },
  {
   "cell_type": "code",
   "execution_count": 16,
   "metadata": {},
   "outputs": [
    {
     "data": {
      "text/plain": [
       "B    231173\n",
       "C    171175\n",
       "A    147720\n",
       "Name: City_Category, dtype: int64"
      ]
     },
     "execution_count": 16,
     "metadata": {},
     "output_type": "execute_result"
    }
   ],
   "source": [
    "dataset['City_Category'].value_counts()"
   ]
  },
  {
   "cell_type": "code",
   "execution_count": 17,
   "metadata": {},
   "outputs": [],
   "source": [
    "dataset['City_Category'].replace(['A','B','C'],[1,2,3],inplace=True)"
   ]
  },
  {
   "cell_type": "code",
   "execution_count": 18,
   "metadata": {},
   "outputs": [],
   "source": [
    "dataset['Gender'].replace(['F','M'],[0,1],inplace=True)"
   ]
  },
  {
   "cell_type": "code",
   "execution_count": 19,
   "metadata": {},
   "outputs": [
    {
     "data": {
      "text/plain": [
       "Product_ID                    False\n",
       "Gender                        False\n",
       "Age                           False\n",
       "Occupation                    False\n",
       "City_Category                 False\n",
       "Stay_In_Current_City_Years    False\n",
       "Marital_Status                False\n",
       "Product_Category_1            False\n",
       "Product_Category_2            False\n",
       "Product_Category_3            False\n",
       "Purchase                      False\n",
       "dtype: bool"
      ]
     },
     "execution_count": 19,
     "metadata": {},
     "output_type": "execute_result"
    }
   ],
   "source": [
    "dataset.isnull().any()"
   ]
  },
  {
   "cell_type": "code",
   "execution_count": 20,
   "metadata": {},
   "outputs": [
    {
     "data": {
      "text/html": [
       "<div>\n",
       "<style scoped>\n",
       "    .dataframe tbody tr th:only-of-type {\n",
       "        vertical-align: middle;\n",
       "    }\n",
       "\n",
       "    .dataframe tbody tr th {\n",
       "        vertical-align: top;\n",
       "    }\n",
       "\n",
       "    .dataframe thead th {\n",
       "        text-align: right;\n",
       "    }\n",
       "</style>\n",
       "<table border=\"1\" class=\"dataframe\">\n",
       "  <thead>\n",
       "    <tr style=\"text-align: right;\">\n",
       "      <th></th>\n",
       "      <th>Product_ID</th>\n",
       "      <th>Gender</th>\n",
       "      <th>Age</th>\n",
       "      <th>Occupation</th>\n",
       "      <th>City_Category</th>\n",
       "      <th>Stay_In_Current_City_Years</th>\n",
       "      <th>Marital_Status</th>\n",
       "      <th>Product_Category_1</th>\n",
       "      <th>Product_Category_2</th>\n",
       "      <th>Product_Category_3</th>\n",
       "      <th>Purchase</th>\n",
       "    </tr>\n",
       "  </thead>\n",
       "  <tbody>\n",
       "    <tr>\n",
       "      <th>count</th>\n",
       "      <td>550068.000000</td>\n",
       "      <td>550068.000000</td>\n",
       "      <td>550068.000000</td>\n",
       "      <td>550068.000000</td>\n",
       "      <td>550068.000000</td>\n",
       "      <td>550068.000000</td>\n",
       "      <td>550068.000000</td>\n",
       "      <td>550068.000000</td>\n",
       "      <td>550068.000000</td>\n",
       "      <td>550068.000000</td>\n",
       "      <td>550068.000000</td>\n",
       "    </tr>\n",
       "    <tr>\n",
       "      <th>mean</th>\n",
       "      <td>174744.814667</td>\n",
       "      <td>0.753105</td>\n",
       "      <td>3.496430</td>\n",
       "      <td>8.076707</td>\n",
       "      <td>2.042640</td>\n",
       "      <td>1.858418</td>\n",
       "      <td>0.409653</td>\n",
       "      <td>5.404270</td>\n",
       "      <td>9.842329</td>\n",
       "      <td>12.668243</td>\n",
       "      <td>9263.968713</td>\n",
       "    </tr>\n",
       "    <tr>\n",
       "      <th>std</th>\n",
       "      <td>102746.516956</td>\n",
       "      <td>0.431205</td>\n",
       "      <td>1.353632</td>\n",
       "      <td>6.522660</td>\n",
       "      <td>0.760211</td>\n",
       "      <td>1.289443</td>\n",
       "      <td>0.491770</td>\n",
       "      <td>3.936211</td>\n",
       "      <td>4.207852</td>\n",
       "      <td>2.271830</td>\n",
       "      <td>5023.065394</td>\n",
       "    </tr>\n",
       "    <tr>\n",
       "      <th>min</th>\n",
       "      <td>142.000000</td>\n",
       "      <td>0.000000</td>\n",
       "      <td>1.000000</td>\n",
       "      <td>0.000000</td>\n",
       "      <td>1.000000</td>\n",
       "      <td>0.000000</td>\n",
       "      <td>0.000000</td>\n",
       "      <td>1.000000</td>\n",
       "      <td>2.000000</td>\n",
       "      <td>3.000000</td>\n",
       "      <td>12.000000</td>\n",
       "    </tr>\n",
       "    <tr>\n",
       "      <th>25%</th>\n",
       "      <td>97142.000000</td>\n",
       "      <td>1.000000</td>\n",
       "      <td>3.000000</td>\n",
       "      <td>2.000000</td>\n",
       "      <td>1.000000</td>\n",
       "      <td>1.000000</td>\n",
       "      <td>0.000000</td>\n",
       "      <td>1.000000</td>\n",
       "      <td>8.000000</td>\n",
       "      <td>12.668243</td>\n",
       "      <td>5823.000000</td>\n",
       "    </tr>\n",
       "    <tr>\n",
       "      <th>50%</th>\n",
       "      <td>169742.000000</td>\n",
       "      <td>1.000000</td>\n",
       "      <td>3.000000</td>\n",
       "      <td>7.000000</td>\n",
       "      <td>2.000000</td>\n",
       "      <td>2.000000</td>\n",
       "      <td>0.000000</td>\n",
       "      <td>5.000000</td>\n",
       "      <td>9.842329</td>\n",
       "      <td>12.668243</td>\n",
       "      <td>8047.000000</td>\n",
       "    </tr>\n",
       "    <tr>\n",
       "      <th>75%</th>\n",
       "      <td>259142.000000</td>\n",
       "      <td>1.000000</td>\n",
       "      <td>4.000000</td>\n",
       "      <td>14.000000</td>\n",
       "      <td>3.000000</td>\n",
       "      <td>3.000000</td>\n",
       "      <td>1.000000</td>\n",
       "      <td>8.000000</td>\n",
       "      <td>14.000000</td>\n",
       "      <td>12.668243</td>\n",
       "      <td>12054.000000</td>\n",
       "    </tr>\n",
       "    <tr>\n",
       "      <th>max</th>\n",
       "      <td>375436.000000</td>\n",
       "      <td>1.000000</td>\n",
       "      <td>7.000000</td>\n",
       "      <td>20.000000</td>\n",
       "      <td>3.000000</td>\n",
       "      <td>4.000000</td>\n",
       "      <td>1.000000</td>\n",
       "      <td>20.000000</td>\n",
       "      <td>18.000000</td>\n",
       "      <td>18.000000</td>\n",
       "      <td>23961.000000</td>\n",
       "    </tr>\n",
       "  </tbody>\n",
       "</table>\n",
       "</div>"
      ],
      "text/plain": [
       "          Product_ID         Gender            Age     Occupation  \\\n",
       "count  550068.000000  550068.000000  550068.000000  550068.000000   \n",
       "mean   174744.814667       0.753105       3.496430       8.076707   \n",
       "std    102746.516956       0.431205       1.353632       6.522660   \n",
       "min       142.000000       0.000000       1.000000       0.000000   \n",
       "25%     97142.000000       1.000000       3.000000       2.000000   \n",
       "50%    169742.000000       1.000000       3.000000       7.000000   \n",
       "75%    259142.000000       1.000000       4.000000      14.000000   \n",
       "max    375436.000000       1.000000       7.000000      20.000000   \n",
       "\n",
       "       City_Category  Stay_In_Current_City_Years  Marital_Status  \\\n",
       "count  550068.000000               550068.000000   550068.000000   \n",
       "mean        2.042640                    1.858418        0.409653   \n",
       "std         0.760211                    1.289443        0.491770   \n",
       "min         1.000000                    0.000000        0.000000   \n",
       "25%         1.000000                    1.000000        0.000000   \n",
       "50%         2.000000                    2.000000        0.000000   \n",
       "75%         3.000000                    3.000000        1.000000   \n",
       "max         3.000000                    4.000000        1.000000   \n",
       "\n",
       "       Product_Category_1  Product_Category_2  Product_Category_3  \\\n",
       "count       550068.000000       550068.000000       550068.000000   \n",
       "mean             5.404270            9.842329           12.668243   \n",
       "std              3.936211            4.207852            2.271830   \n",
       "min              1.000000            2.000000            3.000000   \n",
       "25%              1.000000            8.000000           12.668243   \n",
       "50%              5.000000            9.842329           12.668243   \n",
       "75%              8.000000           14.000000           12.668243   \n",
       "max             20.000000           18.000000           18.000000   \n",
       "\n",
       "            Purchase  \n",
       "count  550068.000000  \n",
       "mean     9263.968713  \n",
       "std      5023.065394  \n",
       "min        12.000000  \n",
       "25%      5823.000000  \n",
       "50%      8047.000000  \n",
       "75%     12054.000000  \n",
       "max     23961.000000  "
      ]
     },
     "execution_count": 20,
     "metadata": {},
     "output_type": "execute_result"
    }
   ],
   "source": [
    "dataset.describe()"
   ]
  },
  {
   "cell_type": "code",
   "execution_count": 21,
   "metadata": {},
   "outputs": [
    {
     "data": {
      "text/plain": [
       "<matplotlib.axes._subplots.AxesSubplot at 0x1b55c486a08>"
      ]
     },
     "execution_count": 21,
     "metadata": {},
     "output_type": "execute_result"
    },
    {
     "data": {
      "image/png": "[encoded data removed]",
      "text/plain": [
       "<Figure size 432x288 with 2 Axes>"
      ]
     },
     "metadata": {
      "needs_background": "light"
     },
     "output_type": "display_data"
    }
   ],
   "source": [
    "sns.heatmap(dataset.corr())"
   ]
  },
  {
   "cell_type": "code",
   "execution_count": 22,
   "metadata": {},
   "outputs": [
    {
     "data": {
      "text/plain": [
       "<matplotlib.axes._subplots.AxesSubplot at 0x1b564960b08>"
      ]
     },
     "execution_count": 22,
     "metadata": {},
     "output_type": "execute_result"
    },
    {
     "data": {
      "image/png": "[encoded data removed]",
      "text/plain": [
       "<Figure size 432x288 with 1 Axes>"
      ]
     },
     "metadata": {
      "needs_background": "light"
     },
     "output_type": "display_data"
    }
   ],
   "source": [
    "sns.countplot(dataset['Gender'])"
   ]
  },
  {
   "cell_type": "code",
   "execution_count": 23,
   "metadata": {},
   "outputs": [
    {
     "data": {
      "text/html": [
       "<div>\n",
       "<style scoped>\n",
       "    .dataframe tbody tr th:only-of-type {\n",
       "        vertical-align: middle;\n",
       "    }\n",
       "\n",
       "    .dataframe tbody tr th {\n",
       "        vertical-align: top;\n",
       "    }\n",
       "\n",
       "    .dataframe thead th {\n",
       "        text-align: right;\n",
       "    }\n",
       "</style>\n",
       "<table border=\"1\" class=\"dataframe\">\n",
       "  <thead>\n",
       "    <tr style=\"text-align: right;\">\n",
       "      <th></th>\n",
       "      <th>Product_ID</th>\n",
       "      <th>Gender</th>\n",
       "      <th>Age</th>\n",
       "      <th>Occupation</th>\n",
       "      <th>City_Category</th>\n",
       "      <th>Stay_In_Current_City_Years</th>\n",
       "      <th>Marital_Status</th>\n",
       "      <th>Product_Category_1</th>\n",
       "      <th>Product_Category_2</th>\n",
       "      <th>Product_Category_3</th>\n",
       "      <th>Purchase</th>\n",
       "    </tr>\n",
       "  </thead>\n",
       "  <tbody>\n",
       "    <tr>\n",
       "      <th>0</th>\n",
       "      <td>69042</td>\n",
       "      <td>0</td>\n",
       "      <td>1</td>\n",
       "      <td>10</td>\n",
       "      <td>1</td>\n",
       "      <td>2.0</td>\n",
       "      <td>0</td>\n",
       "      <td>3</td>\n",
       "      <td>9.842329</td>\n",
       "      <td>12.668243</td>\n",
       "      <td>8370</td>\n",
       "    </tr>\n",
       "    <tr>\n",
       "      <th>1</th>\n",
       "      <td>248942</td>\n",
       "      <td>0</td>\n",
       "      <td>1</td>\n",
       "      <td>10</td>\n",
       "      <td>1</td>\n",
       "      <td>2.0</td>\n",
       "      <td>0</td>\n",
       "      <td>1</td>\n",
       "      <td>6.000000</td>\n",
       "      <td>14.000000</td>\n",
       "      <td>15200</td>\n",
       "    </tr>\n",
       "    <tr>\n",
       "      <th>2</th>\n",
       "      <td>87842</td>\n",
       "      <td>0</td>\n",
       "      <td>1</td>\n",
       "      <td>10</td>\n",
       "      <td>1</td>\n",
       "      <td>2.0</td>\n",
       "      <td>0</td>\n",
       "      <td>12</td>\n",
       "      <td>9.842329</td>\n",
       "      <td>12.668243</td>\n",
       "      <td>1422</td>\n",
       "    </tr>\n",
       "    <tr>\n",
       "      <th>3</th>\n",
       "      <td>85442</td>\n",
       "      <td>0</td>\n",
       "      <td>1</td>\n",
       "      <td>10</td>\n",
       "      <td>1</td>\n",
       "      <td>2.0</td>\n",
       "      <td>0</td>\n",
       "      <td>12</td>\n",
       "      <td>14.000000</td>\n",
       "      <td>12.668243</td>\n",
       "      <td>1057</td>\n",
       "    </tr>\n",
       "    <tr>\n",
       "      <th>4</th>\n",
       "      <td>285442</td>\n",
       "      <td>1</td>\n",
       "      <td>7</td>\n",
       "      <td>16</td>\n",
       "      <td>3</td>\n",
       "      <td>4.0</td>\n",
       "      <td>0</td>\n",
       "      <td>8</td>\n",
       "      <td>9.842329</td>\n",
       "      <td>12.668243</td>\n",
       "      <td>7969</td>\n",
       "    </tr>\n",
       "    <tr>\n",
       "      <th>...</th>\n",
       "      <td>...</td>\n",
       "      <td>...</td>\n",
       "      <td>...</td>\n",
       "      <td>...</td>\n",
       "      <td>...</td>\n",
       "      <td>...</td>\n",
       "      <td>...</td>\n",
       "      <td>...</td>\n",
       "      <td>...</td>\n",
       "      <td>...</td>\n",
       "      <td>...</td>\n",
       "    </tr>\n",
       "    <tr>\n",
       "      <th>550063</th>\n",
       "      <td>372445</td>\n",
       "      <td>1</td>\n",
       "      <td>6</td>\n",
       "      <td>13</td>\n",
       "      <td>2</td>\n",
       "      <td>1.0</td>\n",
       "      <td>1</td>\n",
       "      <td>20</td>\n",
       "      <td>9.842329</td>\n",
       "      <td>12.668243</td>\n",
       "      <td>368</td>\n",
       "    </tr>\n",
       "    <tr>\n",
       "      <th>550064</th>\n",
       "      <td>375436</td>\n",
       "      <td>0</td>\n",
       "      <td>3</td>\n",
       "      <td>1</td>\n",
       "      <td>3</td>\n",
       "      <td>3.0</td>\n",
       "      <td>0</td>\n",
       "      <td>20</td>\n",
       "      <td>9.842329</td>\n",
       "      <td>12.668243</td>\n",
       "      <td>371</td>\n",
       "    </tr>\n",
       "    <tr>\n",
       "      <th>550065</th>\n",
       "      <td>375436</td>\n",
       "      <td>0</td>\n",
       "      <td>3</td>\n",
       "      <td>15</td>\n",
       "      <td>2</td>\n",
       "      <td>4.0</td>\n",
       "      <td>1</td>\n",
       "      <td>20</td>\n",
       "      <td>9.842329</td>\n",
       "      <td>12.668243</td>\n",
       "      <td>137</td>\n",
       "    </tr>\n",
       "    <tr>\n",
       "      <th>550066</th>\n",
       "      <td>375436</td>\n",
       "      <td>0</td>\n",
       "      <td>7</td>\n",
       "      <td>1</td>\n",
       "      <td>3</td>\n",
       "      <td>2.0</td>\n",
       "      <td>0</td>\n",
       "      <td>20</td>\n",
       "      <td>9.842329</td>\n",
       "      <td>12.668243</td>\n",
       "      <td>365</td>\n",
       "    </tr>\n",
       "    <tr>\n",
       "      <th>550067</th>\n",
       "      <td>371644</td>\n",
       "      <td>0</td>\n",
       "      <td>5</td>\n",
       "      <td>0</td>\n",
       "      <td>2</td>\n",
       "      <td>4.0</td>\n",
       "      <td>1</td>\n",
       "      <td>20</td>\n",
       "      <td>9.842329</td>\n",
       "      <td>12.668243</td>\n",
       "      <td>490</td>\n",
       "    </tr>\n",
       "  </tbody>\n",
       "</table>\n",
       "<p>550068 rows × 11 columns</p>\n",
       "</div>"
      ],
      "text/plain": [
       "        Product_ID  Gender  Age  Occupation  City_Category  \\\n",
       "0            69042       0    1          10              1   \n",
       "1           248942       0    1          10              1   \n",
       "2            87842       0    1          10              1   \n",
       "3            85442       0    1          10              1   \n",
       "4           285442       1    7          16              3   \n",
       "...            ...     ...  ...         ...            ...   \n",
       "550063      372445       1    6          13              2   \n",
       "550064      375436       0    3           1              3   \n",
       "550065      375436       0    3          15              2   \n",
       "550066      375436       0    7           1              3   \n",
       "550067      371644       0    5           0              2   \n",
       "\n",
       "        Stay_In_Current_City_Years  Marital_Status  Product_Category_1  \\\n",
       "0                              2.0               0                   3   \n",
       "1                              2.0               0                   1   \n",
       "2                              2.0               0                  12   \n",
       "3                              2.0               0                  12   \n",
       "4                              4.0               0                   8   \n",
       "...                            ...             ...                 ...   \n",
       "550063                         1.0               1                  20   \n",
       "550064                         3.0               0                  20   \n",
       "550065                         4.0               1                  20   \n",
       "550066                         2.0               0                  20   \n",
       "550067                         4.0               1                  20   \n",
       "\n",
       "        Product_Category_2  Product_Category_3  Purchase  \n",
       "0                 9.842329           12.668243      8370  \n",
       "1                 6.000000           14.000000     15200  \n",
       "2                 9.842329           12.668243      1422  \n",
       "3                14.000000           12.668243      1057  \n",
       "4                 9.842329           12.668243      7969  \n",
       "...                    ...                 ...       ...  \n",
       "550063            9.842329           12.668243       368  \n",
       "550064            9.842329           12.668243       371  \n",
       "550065            9.842329           12.668243       137  \n",
       "550066            9.842329           12.668243       365  \n",
       "550067            9.842329           12.668243       490  \n",
       "\n",
       "[550068 rows x 11 columns]"
      ]
     },
     "execution_count": 23,
     "metadata": {},
     "output_type": "execute_result"
    }
   ],
   "source": [
    "dataset"
   ]
  },
  {
   "cell_type": "code",
   "execution_count": 24,
   "metadata": {},
   "outputs": [],
   "source": [
    "x=dataset.iloc[0:5000,0:10].values"
   ]
  },
  {
   "cell_type": "code",
   "execution_count": 25,
   "metadata": {},
   "outputs": [],
   "source": [
    "y=dataset.iloc[0:5000,10:11].values"
   ]
  },
  {
   "cell_type": "code",
   "execution_count": 26,
   "metadata": {},
   "outputs": [
    {
     "data": {
      "text/plain": [
       "array([[6.90420000e+04, 0.00000000e+00, 1.00000000e+00, ...,\n",
       "        3.00000000e+00, 9.84232925e+00, 1.26682432e+01],\n",
       "       [2.48942000e+05, 0.00000000e+00, 1.00000000e+00, ...,\n",
       "        1.00000000e+00, 6.00000000e+00, 1.40000000e+01],\n",
       "       [8.78420000e+04, 0.00000000e+00, 1.00000000e+00, ...,\n",
       "        1.20000000e+01, 9.84232925e+00, 1.26682432e+01],\n",
       "       ...,\n",
       "       [1.09420000e+04, 1.00000000e+00, 2.00000000e+00, ...,\n",
       "        1.00000000e+00, 2.00000000e+00, 6.00000000e+00],\n",
       "       [1.20642000e+05, 1.00000000e+00, 2.00000000e+00, ...,\n",
       "        5.00000000e+00, 9.84232925e+00, 1.26682432e+01],\n",
       "       [3.29242000e+05, 1.00000000e+00, 2.00000000e+00, ...,\n",
       "        5.00000000e+00, 1.40000000e+01, 1.26682432e+01]])"
      ]
     },
     "execution_count": 26,
     "metadata": {},
     "output_type": "execute_result"
    }
   ],
   "source": [
    "x"
   ]
  },
  {
   "cell_type": "code",
   "execution_count": 27,
   "metadata": {},
   "outputs": [
    {
     "data": {
      "text/plain": [
       "(5000, 10)"
      ]
     },
     "execution_count": 27,
     "metadata": {},
     "output_type": "execute_result"
    }
   ],
   "source": [
    "x.shape"
   ]
  },
  {
   "cell_type": "code",
   "execution_count": 28,
   "metadata": {},
   "outputs": [
    {
     "data": {
      "text/plain": [
       "array([[ 8370],\n",
       "       [15200],\n",
       "       [ 1422],\n",
       "       ...,\n",
       "       [15247],\n",
       "       [ 8823],\n",
       "       [ 6932]], dtype=int64)"
      ]
     },
     "execution_count": 28,
     "metadata": {},
     "output_type": "execute_result"
    }
   ],
   "source": [
    "y"
   ]
  },
  {
   "cell_type": "code",
   "execution_count": 29,
   "metadata": {},
   "outputs": [
    {
     "data": {
      "text/plain": [
       "array([3.24420000e+04, 1.00000000e+00, 2.00000000e+00, 1.10000000e+01,\n",
       "       1.00000000e+00, 3.00000000e+00, 0.00000000e+00, 5.00000000e+00,\n",
       "       9.84232925e+00, 1.26682432e+01])"
      ]
     },
     "execution_count": 29,
     "metadata": {},
     "output_type": "execute_result"
    }
   ],
   "source": [
    "from sklearn.model_selection import train_test_split\n",
    "x_train,x_test,y_train,y_test=train_test_split(x,y,test_size=0.2,random_state=10)\n",
    "x_train[0]"
   ]
  },
  {
   "cell_type": "code",
   "execution_count": 30,
   "metadata": {},
   "outputs": [
    {
     "data": {
      "text/plain": [
       "array([3.38442000e+05, 1.00000000e+00, 5.00000000e+00, 1.70000000e+01,\n",
       "       2.00000000e+00, 3.00000000e+00, 1.00000000e+00, 1.00000000e+00,\n",
       "       1.60000000e+01, 1.26682432e+01])"
      ]
     },
     "execution_count": 30,
     "metadata": {},
     "output_type": "execute_result"
    }
   ],
   "source": [
    "x_test[0]"
   ]
  },
  {
   "cell_type": "code",
   "execution_count": 31,
   "metadata": {},
   "outputs": [],
   "source": [
    "from sklearn.preprocessing import StandardScaler\n",
    "sc = StandardScaler(with_mean=False)\n",
    "x_train=sc.fit_transform(x_train)\n",
    "x_test=sc.transform(x_test)"
   ]
  },
  {
   "cell_type": "code",
   "execution_count": 32,
   "metadata": {},
   "outputs": [],
   "source": [
    "from sklearn.ensemble import RandomForestRegressor"
   ]
  },
  {
   "cell_type": "code",
   "execution_count": 33,
   "metadata": {},
   "outputs": [
    {
     "name": "stderr",
     "output_type": "stream",
     "text": [
      "C:\\Users\\MY\\anaconda3\\lib\\site-packages\\ipykernel_launcher.py:2: DataConversionWarning: A column-vector y was passed when a 1d array was expected. Please change the shape of y to (n_samples,), for example using ravel().\n",
      "  \n"
     ]
    },
    {
     "data": {
      "text/plain": [
       "RandomForestRegressor(bootstrap=True, ccp_alpha=0.0, criterion='mse',\n",
       "                      max_depth=6, max_features='auto', max_leaf_nodes=None,\n",
       "                      max_samples=None, min_impurity_decrease=0.0,\n",
       "                      min_impurity_split=None, min_samples_leaf=1,\n",
       "                      min_samples_split=2, min_weight_fraction_leaf=0.0,\n",
       "                      n_estimators=100, n_jobs=10, oob_score=False,\n",
       "                      random_state=None, verbose=0, warm_start=False)"
      ]
     },
     "execution_count": 33,
     "metadata": {},
     "output_type": "execute_result"
    }
   ],
   "source": [
    "rf= RandomForestRegressor(max_depth=6,n_jobs=10)\n",
    "rf.fit(x_train,y_train)"
   ]
  },
  {
   "cell_type": "code",
   "execution_count": 34,
   "metadata": {},
   "outputs": [
    {
     "data": {
      "text/plain": [
       "array([13661.52918577,  6397.38688127,  6422.1237914 , 16047.8163416 ,\n",
       "        6365.9240067 ,  7492.34833909,  6079.33668562, 13032.25914887,\n",
       "       13568.49235524, 13495.36368258,  7492.34833909, 10381.01195415,\n",
       "       13371.94953756,  6273.85125911, 10460.55856744,  6588.95413265,\n",
       "        6310.16162909,  7492.34833909,  6397.58822457, 12892.17957013,\n",
       "        7492.34833909,  7492.34833909,  6047.80501782,  4432.05480934,\n",
       "        6424.36929834,  6288.70646108, 10439.41097407, 15970.81180203,\n",
       "        6398.43729409,  7492.34833909,  6417.4130607 , 13743.47887631,\n",
       "        2721.44161334, 13855.63764091,  7492.34833909,  6297.2164163 ,\n",
       "        6353.8188661 , 13800.06581881, 16481.29868744, 16071.79585461,\n",
       "        1322.10796316, 16416.06774097,  6376.03279155,  7492.34833909,\n",
       "       13726.05377773, 15903.7633219 , 13249.45055107,  6262.05242567,\n",
       "       14588.92665244, 10870.44178081, 12667.70385827,  7492.34833909,\n",
       "       18361.41077969, 17997.64230251, 12149.09456387,  6422.98430786,\n",
       "        7492.34833909, 13171.91858942,  4922.37636882,  5941.30630463,\n",
       "        6392.03008102,  2844.04599599, 14139.44837463, 12053.90914285,\n",
       "       13256.29846798,  7492.34833909,  6365.3781483 , 10579.9417119 ,\n",
       "       14128.17596562, 13253.80523101, 13309.63038626, 15164.77529251,\n",
       "       15137.20304323,  7492.34833909,  7492.34833909,  6353.8188661 ,\n",
       "       12461.64234668,  7492.34833909,  7492.34833909, 12240.04590346,\n",
       "       15003.34405246,  3027.4847752 ,  6399.90986596,  6624.94651401,\n",
       "       12833.95534727, 10450.44723726,  7492.34833909,  6656.27466066,\n",
       "        7492.34833909, 15527.18640676,  6397.38688127,  7492.34833909,\n",
       "        6246.43449768, 13255.20707519,  7492.34833909, 10743.04295507,\n",
       "        6304.66831772,  7492.34833909, 16195.53734173, 11220.34888363,\n",
       "        6387.2615894 ,  4375.61970049, 11385.49289853, 15199.68256574,\n",
       "       15654.61227512,  6370.3142184 , 13031.67681723, 12299.56399892,\n",
       "        7492.34833909, 14746.53114588, 12127.55366521,  7492.34833909,\n",
       "        6325.99009155, 15837.21335358,  6377.26857991,  6066.79698031,\n",
       "        7492.34833909,  7492.34833909,  6066.79698031, 17952.40599218,\n",
       "       15710.39700946,  7492.34833909,  6085.12181603, 13103.41606511,\n",
       "        4375.61970049,  7492.34833909, 14127.70244695, 12778.30190288,\n",
       "        7492.34833909, 13686.08782205, 13691.00623205,  7492.34833909,\n",
       "        7492.34833909,  6373.13267088,  6297.2164163 ,  6399.90986596,\n",
       "        6266.6108307 ,  7492.34833909,  4753.51238334,  6426.59294059,\n",
       "       13499.5207504 ,  6354.62257137, 16276.31281566,  6622.20575506,\n",
       "       13772.05229535,  7492.34833909, 15886.53567072,  4390.31864327,\n",
       "       18403.89344767,  7492.34833909,  7492.34833909, 16432.94444337,\n",
       "       12868.73122308,  6353.8188661 ,  6419.80215001, 13429.02679054,\n",
       "        6273.42337561, 14216.49690461,  6353.8188661 ,  6573.69657656,\n",
       "       15358.34778733, 12794.19180501,  7492.34833909, 18489.79718685,\n",
       "        7492.34833909,  6655.63695201, 16586.26467777,  7492.34833909,\n",
       "       12913.64011607,  6259.8864795 ,  7492.34833909,  6333.59866218,\n",
       "        6393.11907538,  6401.85603046, 10889.55350063, 11477.849499  ,\n",
       "        5267.54025222, 14559.034297  , 15603.33897772,  6341.17058955,\n",
       "        7492.34833909,  4523.64071134, 12490.26485619,  7492.34833909,\n",
       "        2534.41687919,  7492.34833909,  2849.34214236, 13557.5733297 ,\n",
       "        7492.34833909,  6380.47079882,  7492.34833909, 13521.46661496,\n",
       "       12919.96948114,  7492.34833909,  7492.34833909,  7492.34833909,\n",
       "        6399.90986596, 13971.09743893,  6675.46785257,  6073.79132335,\n",
       "        7492.34833909, 15252.37876911,  7492.34833909, 14127.69335604,\n",
       "        5807.90719931, 12960.31629535,  6387.59207375, 13162.76852431,\n",
       "        6702.60622847, 15501.78241936, 15737.42506016, 15994.1464018 ,\n",
       "        6404.37901515,  6344.74528725, 13229.57246013,  2654.93540123,\n",
       "       12729.94065513,  6387.2615894 , 12217.48176713,  7492.34833909,\n",
       "        2627.17733153,  6380.17145639,  7492.34833909,  7492.34833909,\n",
       "        6404.67835758,  6397.29663547, 13059.71386476, 13082.48141381,\n",
       "        6308.96907879, 14290.44981874,  7492.34833909, 13302.54316305,\n",
       "        6154.72448031, 10208.32090033, 11366.89110981,  6323.5134826 ,\n",
       "       13203.53739539,  4484.09975483, 12256.38946719,  6398.43729409,\n",
       "        6033.42697182, 13937.22534312,  5046.47393213,  1268.95587153,\n",
       "       12692.47225202,  7492.34833909, 11657.21268086,  6318.2067196 ,\n",
       "       10708.84539744,  6113.0866542 ,  6225.93686804, 11782.5875639 ,\n",
       "        4452.8208388 ,  6270.44062337,  7492.34833909,  7492.34833909,\n",
       "       13064.53208182,  7492.34833909, 13264.65373404, 12919.80653839,\n",
       "       12809.15204717, 10767.89595768, 16516.64326085, 16003.02181222,\n",
       "        7492.34833909,  6403.5629073 ,  7492.34833909, 11178.04788365,\n",
       "        7492.34833909,  6439.08260933,  7492.34833909,  7492.34833909,\n",
       "       16471.51886218, 13381.75746561,  7492.34833909,  7492.34833909,\n",
       "        7492.34833909, 12441.29581228, 14334.13947522, 12883.5953853 ,\n",
       "        2699.70443692,  4991.41844601,  7492.34833909,  6600.00105341,\n",
       "       13253.95729807,  6415.85406227,  7492.34833909,  7492.34833909,\n",
       "        7492.34833909,  6394.32526649,  6385.26311173, 13417.596058  ,\n",
       "        6365.9240067 , 13117.65502588,  4792.09398419, 10475.16346794,\n",
       "        9979.2595114 , 13267.56124254, 12309.65974212,  6411.08557065,\n",
       "       13689.75256477,  5860.58341836,  6152.58979506, 14871.51153093,\n",
       "       11144.54840248, 12666.40684734,  7492.34833909,  4419.44249052,\n",
       "       13967.80235204,  4625.16271532,  2603.77982574,  7492.34833909,\n",
       "        6313.73757041,  6374.78336759, 13121.42498716, 14097.75688334,\n",
       "       15377.56864989,  6058.94863749,  7492.34833909, 15802.29436587,\n",
       "        6575.43295024, 12873.67172692,  4315.34444035,  6404.67835758,\n",
       "       13343.1543103 , 10824.71036087,  4445.27521298,  4754.14808867,\n",
       "        7492.34833909,  6367.27084793, 14091.8132396 , 16297.88750697,\n",
       "       12792.29709421, 14619.87669324, 10808.115219  , 16129.90539836,\n",
       "       15130.68031795,  7492.34833909, 15560.34527591, 14485.75148557,\n",
       "        6597.56930495,  7492.34833909, 14460.05455873, 16079.87587996,\n",
       "       13502.62257295,  5443.08259917,  7492.34833909,  6620.9356118 ,\n",
       "        7492.34833909, 12685.62278382, 10444.15836361,  6295.83899531,\n",
       "        7492.34833909,  6337.7183754 ,  7492.34833909, 15587.41852628,\n",
       "       14163.44822056,  6431.13332197, 14343.79118772,  4288.98469372,\n",
       "        7492.34833909, 13231.42012738, 18085.76218807,  6354.62257137,\n",
       "       12360.95049042,  7492.34833909,  7492.34833909, 12761.1076947 ,\n",
       "        7492.34833909,  7492.34833909,  7492.34833909,  7492.34833909,\n",
       "        7492.34833909, 13371.16977533,  6282.69314451,  7492.34833909,\n",
       "        7492.34833909, 15782.62486366, 10374.48891657,  6415.33300082,\n",
       "       13284.62518897,  6564.1244682 ,  7492.34833909, 10329.44873222,\n",
       "        6409.14750677,  6426.59294059,  7492.34833909,  6034.42336255,\n",
       "       12205.14842563,  7492.34833909,  6255.95528   , 13910.56878011,\n",
       "       13412.16670553,  7492.34833909,  6075.64243324,  7492.34833909,\n",
       "       10368.9983948 ,  6220.3493929 , 13905.83498426, 12876.99963547,\n",
       "       10293.16292959,  7492.34833909,  7492.34833909, 13033.07925228,\n",
       "       15113.36718714, 15393.14690326, 11264.09162374,  6651.13852373,\n",
       "       11676.717665  , 10420.87747448,  6026.55757622,  1279.57649042,\n",
       "       13641.15376252, 13225.75873175, 16406.65480008, 13590.36729278,\n",
       "        4643.86508983,  7492.34833909,  6411.08557065, 13314.01068461,\n",
       "        6391.73073859,  4336.0986887 ,  7492.34833909, 13783.84192743,\n",
       "        6601.25937851,  7492.34833909,  1337.09056101,  6593.07175857,\n",
       "        6283.08889993,  7492.34833909,  6232.99766946,  6220.3493929 ,\n",
       "       13048.59487336, 10424.51650059, 15181.17362279, 13944.11810666,\n",
       "       11669.51914153,  6393.30604586,  7492.34833909, 15242.25531842,\n",
       "        6265.67213175,  7492.34833909,  7492.34833909, 15780.20024325,\n",
       "        9956.6485094 , 12391.4092916 ,  6002.48766553,  7492.34833909,\n",
       "       12034.69668196,  1274.59773614, 13649.38857064, 15371.66027762,\n",
       "       14122.65846353,  7492.34833909,  6424.36929834, 14009.891949  ,\n",
       "        7492.34833909,  6667.81020222,  6575.53571888,  4788.74847531,\n",
       "        2540.95326488,  7492.34833909,  6411.08557065, 14084.27115336,\n",
       "       12692.54843468,  6122.1052271 ,  6574.56873582,  2619.69197437,\n",
       "       15799.59550809, 12339.46277463, 15388.36370675, 14287.4229296 ,\n",
       "       10684.53999426,  5019.15515031, 16446.2974238 , 10752.35238955,\n",
       "        6397.20595049, 13030.29749398,  6292.44792467,  4837.53187312,\n",
       "        9886.3053532 , 13875.6834652 , 15676.00298332, 10062.97307659,\n",
       "        7492.34833909, 14125.53742563, 13104.23655719,  6246.43449768,\n",
       "       10123.45072797,  6357.23503367,  1249.43507612,  2586.94885694,\n",
       "        6411.08557065, 14819.32994476,  7492.34833909,  7492.34833909,\n",
       "        7492.34833909, 13294.98304641,  7492.34833909,  7492.34833909,\n",
       "        5004.86291892, 13333.35368004,  6405.55470032, 13042.11569742,\n",
       "        7492.34833909,  2790.10313113,  7492.34833909,  7492.34833909,\n",
       "       13733.60098449,  6388.35058375,  3006.53540341,  6257.03358938,\n",
       "        7492.34833909,  6009.49610437, 12163.29862586, 13583.06086013,\n",
       "       13165.3904711 ,  6397.58822457,  6568.53386635,  7492.34833909,\n",
       "        6631.98214918,  7492.34833909,  6275.71483502, 13272.32108007,\n",
       "        5765.63854255,  6361.70418286,  7492.34833909,  4958.64586673,\n",
       "        6318.2067196 , 16263.69288062,  7492.34833909, 12887.79403854,\n",
       "       10498.76779094,  7492.34833909, 14626.65967523, 10193.71586145,\n",
       "       13925.91848392, 14392.25003434,  7492.34833909, 15740.54190928,\n",
       "       16042.64710358,   955.12129494, 10151.97985522,  6091.16857934,\n",
       "       14718.46272711,  6415.85406227,  6316.181894  , 12963.0988518 ,\n",
       "        6421.30768356,  6611.10054788,  2649.16832557,  6318.2067196 ,\n",
       "       12991.32778962,  6380.47079882, 13443.43630819,  7492.34833909,\n",
       "        6379.2239608 ,  6072.98774682,  7492.34833909, 10896.15239624,\n",
       "        6411.08557065,  7492.34833909, 13486.27836307,  7492.34833909,\n",
       "        5774.56727693,  2794.1209522 ,  6293.29736779, 13280.6550724 ,\n",
       "        7492.34833909,  7492.34833909,  6399.90986596,  7492.34833909,\n",
       "       18431.37824557, 13063.89854011, 14091.49112841,  6392.81973294,\n",
       "        7492.34833909,  7492.34833909,  6265.67213175, 10376.44748471,\n",
       "       13051.56795938, 13004.11228757,  6403.20578572, 15887.39638547,\n",
       "        5805.04750394,  6397.58822457,  6633.43695443, 16363.15587596,\n",
       "        7492.34833909, 14256.23348594,  7492.34833909,  4666.38422014,\n",
       "        7492.34833909,  6303.75441602,  7492.34833909,  6568.53386635,\n",
       "       13027.2550559 , 16083.45212971, 13709.38659307,  2700.47059722,\n",
       "       14271.19094225, 13210.3471906 ,  7492.34833909,  7492.34833909,\n",
       "       10141.94708728,  4375.61970049,  6146.08311112,  7492.34833909,\n",
       "        7492.34833909,  7492.34833909, 15883.98959242, 11725.24492948,\n",
       "        6393.11907538, 13462.15113936,  6376.18458709,  6353.8188661 ,\n",
       "        7492.34833909,  6397.58822457,  7492.34833909, 13041.27077429,\n",
       "       12889.04969936, 13721.42038241, 12895.49672321,  7492.34833909,\n",
       "       14665.32732094,  7492.34833909, 10394.55378009,  5980.76018156,\n",
       "        7492.34833909, 13850.51201825,  6387.2615894 ,  7492.34833909,\n",
       "       11675.54062602, 12856.09080242,  6433.29949609,  7492.34833909,\n",
       "        7492.34833909, 13401.60063896,  7492.34833909, 11078.51784099,\n",
       "       14278.83467377, 13083.53945293,  7492.34833909, 13917.80539389,\n",
       "        5943.5088589 , 14027.44103674, 17881.2621087 ,  7492.34833909,\n",
       "        2707.85932557,  7492.34833909,  9903.24360934, 15299.8876624 ,\n",
       "        8622.2256195 , 16131.43255447, 14087.86005383,  6438.06798772,\n",
       "       13119.77008323, 13270.7583525 , 15962.37445183,  7492.34833909,\n",
       "       13288.38770669, 12540.48332295, 13161.9853719 , 12749.96077152,\n",
       "       12708.86873809,  6381.67698993,  7492.34833909,  6598.13773526,\n",
       "       13691.29808821,  6280.94843367,  5851.97916842,  6398.43729409,\n",
       "        4488.20164778,  6330.75858318,  6406.62452208,  6278.61975074,\n",
       "        7492.34833909, 15848.37361663,  5991.88493119,  5733.74163787,\n",
       "       13653.4874443 ,  6403.20578572, 10708.03126798,  7492.34833909,\n",
       "       14208.30372116,  5876.45834068,  7492.34833909, 10287.54148157,\n",
       "       13914.90791416, 11059.22928433,  6673.65893809,  6415.33300082,\n",
       "       11320.71846874, 13737.3715161 ,  7492.34833909,  6105.31808982,\n",
       "        4400.72569288, 13846.50908417,  6273.85125911,  1235.04719702,\n",
       "        6419.27620475, 12961.28885971, 16473.89847408,  4346.23846358,\n",
       "        6352.72987175,  6316.181894  , 13331.89669334, 10045.10807714,\n",
       "        7492.34833909,  6642.64918621,  7492.34833909,  5938.28531803,\n",
       "        6113.52591226,  6648.29661719,  6341.17058955, 12806.54949685,\n",
       "       13865.36462552,  7492.34833909,  6404.37901515, 14414.09785147,\n",
       "       15738.43976138,  6592.44213381, 10422.61229758,  7492.34833909,\n",
       "        6404.37901515,   939.41102584, 12968.25741632, 13082.17772038,\n",
       "       13308.32457247,  2622.77211946,  6438.06798772, 14041.21918118,\n",
       "        6077.21663562,  6581.6605079 ,  7492.34833909,  7492.34833909,\n",
       "         950.14633521,  7492.34833909, 14930.81201594, 11327.26929432,\n",
       "       16501.27229497,  6313.73757041,  6387.59207375, 14687.23053701,\n",
       "       18405.99082458,  6216.31460759, 14401.89552738,  7492.34833909,\n",
       "       12781.66644891, 11443.89797675,  7492.34833909,  7492.34833909,\n",
       "        6344.98251253,  6392.81973294, 13446.83781752, 14041.64693546,\n",
       "        5996.35408038, 11583.75985501,  6366.47267448,  5955.97093216,\n",
       "        6169.48196581,  1286.26005843,  6553.38448733, 13235.17579676,\n",
       "        4903.37017009, 12938.83462639,  7492.34833909,  6313.43822798,\n",
       "        2803.14943752,  7492.34833909, 16206.92886055,  6683.32478052,\n",
       "       15530.70532036,  6370.14663993,  6388.35058375,  6396.92893102,\n",
       "        4311.84860539,  4640.34290553,  7492.34833909,  6278.3204083 ,\n",
       "       14052.01387058, 10899.44034931, 13430.65118771,  7492.34833909,\n",
       "        7492.34833909, 13002.80704845, 13714.60988062,  6393.11907538,\n",
       "        6249.70349155,  6584.61569074, 11546.73996883,  7492.34833909,\n",
       "        6341.17058955,  7492.34833909,  2563.72592765, 13575.30757775,\n",
       "        6589.22170886, 12711.42787133, 13426.14945606, 12273.33000223,\n",
       "        6376.03279155,  7492.34833909,  7492.34833909,  6246.43449768,\n",
       "       14321.34558477,  6431.16008891,  6415.03365839,  6392.81973294,\n",
       "        2518.58873598,  4362.53330049,  6409.14750677, 15222.21140373,\n",
       "       14194.36498495,  2670.36641885, 13745.59075011,  6220.3493929 ,\n",
       "       11164.14541646, 10697.8569456 , 15194.5002809 , 12544.45012896,\n",
       "       16232.69812877, 13257.07050027, 15187.31217313, 13788.61010188,\n",
       "       16415.79184861, 15217.90722174,  7492.34833909,  6406.07576177,\n",
       "       15704.02243499, 15406.13395568, 12190.91781778, 14852.18898172,\n",
       "        6288.36311157,  7492.34833909,  6111.87510818, 14293.13150036,\n",
       "        7492.34833909,  7492.34833909,  7492.34833909, 15368.46602155,\n",
       "        7492.34833909,  6400.54091006,  7492.34833909,  5947.39161732,\n",
       "        6399.90986596, 13922.09150045,  6246.43449768,  6265.67213175,\n",
       "       10600.90303146, 12396.99758984, 18461.20661302,  9862.59097192,\n",
       "       13957.15289161,  6309.56535042, 16030.01494574,  6392.66112513,\n",
       "       10426.79760297, 15731.69099284,  7492.34833909, 15626.02741387,\n",
       "        4573.25611483,  5820.73914842, 13567.42337055,  1308.9486905 ,\n",
       "        3104.12002831,  7492.34833909,  6422.1237914 , 18204.61578178,\n",
       "        7492.34833909, 13362.82426044,  6381.60596692,  6563.02953952,\n",
       "        7492.34833909,  7492.34833909,  7492.34833909,  6270.83837852,\n",
       "       13402.28290434,  6391.73073859, 14979.07818248,  4320.8248145 ,\n",
       "        6669.07199552,  6601.25937851,  7492.34833909,  6321.65926375,\n",
       "        6354.62257137,  7492.34833909, 11768.44316212,  7492.34833909,\n",
       "        6297.2164163 , 12775.11504632,  5909.11566396,  7492.34833909,\n",
       "       13561.49671895,  6063.49996529,  6067.23947935, 12955.14605026,\n",
       "        5876.45834068,  7492.34833909, 15002.21682351, 12850.99459773,\n",
       "        6396.49923021, 13610.70235101,  6389.50709634,  6662.82719516,\n",
       "        7492.34833909, 18190.47906976, 10379.52945127, 12797.20654244,\n",
       "        6032.70693572, 13236.2632937 , 10279.65669447,  6673.31055786,\n",
       "        2649.56337426,  7492.34833909,  7492.34833909,  6621.56095962,\n",
       "        5987.77476555, 14947.19746331, 13525.10285053,   949.96752647,\n",
       "       12866.29785932, 13213.12702597,  7492.34833909, 10089.36250617,\n",
       "        4340.80691691,  4374.0161287 , 13394.64534599,  6389.12498906,\n",
       "        6411.08557065, 13720.74968871,  6278.3204083 ,  4405.91721273,\n",
       "        6341.17058955,  2789.81750843,  7492.34833909,  6654.87291494,\n",
       "        7492.34833909,  7492.34833909, 13097.63751838,  7492.34833909,\n",
       "       12441.21433697,  6309.86469285,  6345.94005965, 12881.86460422,\n",
       "       13992.56642434,  6378.57228325, 13006.43171389,  6411.08557065,\n",
       "        6159.35017989, 10052.00301094,  6353.8188661 ,  7492.34833909,\n",
       "        6161.97022368, 10096.92554362,  6687.01485408,  7492.34833909,\n",
       "        6397.91138829, 10929.21709845,  4348.91074322,  7492.34833909,\n",
       "        6442.33579361,  6411.08557065,  6341.17058955, 13058.59534538,\n",
       "       18399.94199557,  6619.59288711, 11085.07749178,  6323.5134826 ,\n",
       "       13922.56980801,  7492.34833909, 14160.91137735, 13925.34727033,\n",
       "        6433.29949609,  7492.34833909,  6700.49843539, 10545.95757763,\n",
       "       12917.5334128 ,  6402.15537289,  7492.34833909, 10509.15789188,\n",
       "       16125.00713685,  6341.17058955, 13474.01860352,  6201.12871986,\n",
       "       11504.12957219,  6401.93432776,  6438.06798772,  6392.03008102,\n",
       "       14195.58740696, 16114.26582723, 13554.52598346, 10566.78611098,\n",
       "        7492.34833909,  7492.34833909,  6380.47079882, 12012.06341608,\n",
       "        5892.34599872,  6340.2140209 , 13285.34877201,  7492.34833909])"
      ]
     },
     "execution_count": 34,
     "metadata": {},
     "output_type": "execute_result"
    }
   ],
   "source": [
    "pred=rf.predict(x_test)\n",
    "pred"
   ]
  },
  {
   "cell_type": "code",
   "execution_count": 35,
   "metadata": {},
   "outputs": [],
   "source": [
    "from sklearn.metrics import r2_score\n",
    "accuracy= r2_score(y_test,pred)"
   ]
  },
  {
   "cell_type": "code",
   "execution_count": 36,
   "metadata": {},
   "outputs": [
    {
     "data": {
      "text/plain": [
       "0.6801506951934098"
      ]
     },
     "execution_count": 36,
     "metadata": {},
     "output_type": "execute_result"
    }
   ],
   "source": [
    "accuracy"
   ]
  },
  {
   "cell_type": "code",
   "execution_count": 37,
   "metadata": {},
   "outputs": [
    {
     "data": {
      "text/plain": [
       "(1000, 10)"
      ]
     },
     "execution_count": 37,
     "metadata": {},
     "output_type": "execute_result"
    }
   ],
   "source": [
    "x_test.shape"
   ]
  },
  {
   "cell_type": "code",
   "execution_count": 39,
   "metadata": {},
   "outputs": [
    {
     "data": {
      "text/html": [
       "<div>\n",
       "<style scoped>\n",
       "    .dataframe tbody tr th:only-of-type {\n",
       "        vertical-align: middle;\n",
       "    }\n",
       "\n",
       "    .dataframe tbody tr th {\n",
       "        vertical-align: top;\n",
       "    }\n",
       "\n",
       "    .dataframe thead th {\n",
       "        text-align: right;\n",
       "    }\n",
       "</style>\n",
       "<table border=\"1\" class=\"dataframe\">\n",
       "  <thead>\n",
       "    <tr style=\"text-align: right;\">\n",
       "      <th></th>\n",
       "      <th>Product_ID</th>\n",
       "      <th>Gender</th>\n",
       "      <th>Age</th>\n",
       "      <th>Occupation</th>\n",
       "      <th>City_Category</th>\n",
       "      <th>Stay_In_Current_City_Years</th>\n",
       "      <th>Marital_Status</th>\n",
       "      <th>Product_Category_1</th>\n",
       "      <th>Product_Category_2</th>\n",
       "      <th>Product_Category_3</th>\n",
       "      <th>Purchase</th>\n",
       "    </tr>\n",
       "  </thead>\n",
       "  <tbody>\n",
       "    <tr>\n",
       "      <th>0</th>\n",
       "      <td>69042</td>\n",
       "      <td>0</td>\n",
       "      <td>1</td>\n",
       "      <td>10</td>\n",
       "      <td>1</td>\n",
       "      <td>2.0</td>\n",
       "      <td>0</td>\n",
       "      <td>3</td>\n",
       "      <td>9.842329</td>\n",
       "      <td>12.668243</td>\n",
       "      <td>8370</td>\n",
       "    </tr>\n",
       "  </tbody>\n",
       "</table>\n",
       "</div>"
      ],
      "text/plain": [
       "   Product_ID  Gender  Age  Occupation  City_Category  \\\n",
       "0       69042       0    1          10              1   \n",
       "\n",
       "   Stay_In_Current_City_Years  Marital_Status  Product_Category_1  \\\n",
       "0                         2.0               0                   3   \n",
       "\n",
       "   Product_Category_2  Product_Category_3  Purchase  \n",
       "0            9.842329           12.668243      8370  "
      ]
     },
     "execution_count": 39,
     "metadata": {},
     "output_type": "execute_result"
    }
   ],
   "source": [
    "dataset.head(1)"
   ]
  },
  {
   "cell_type": "code",
   "execution_count": 43,
   "metadata": {},
   "outputs": [],
   "source": [
    "p=rf.predict([[69042, 0, 1, 10, 1, 2.0, 0, 3, 9.84329, 12.668243,]])"
   ]
  },
  {
   "cell_type": "code",
   "execution_count": 44,
   "metadata": {},
   "outputs": [
    {
     "data": {
      "text/plain": [
       "array([4672.72237216])"
      ]
     },
     "execution_count": 44,
     "metadata": {},
     "output_type": "execute_result"
    }
   ],
   "source": [
    "p"
   ]
  },
  {
   "cell_type": "code",
   "execution_count": 45,
   "metadata": {},
   "outputs": [],
   "source": [
    "import pickle\n",
    "pickle.dump(rf,open('purchase.pkl','wb'))"
   ]
  },
  {
   "cell_type": "code",
   "execution_count": null,
   "metadata": {},
   "outputs": [],
   "source": []
  }
 ],
 "metadata": {
  "kernelspec": {
   "display_name": "Python 3",
   "language": "python",
   "name": "python3"
  },
  "language_info": {
   "codemirror_mode": {
    "name": "ipython",
    "version": 3
   },
   "file_extension": ".py",
   "mimetype": "text/x-python",
   "name": "python",
   "nbconvert_exporter": "python",
   "pygments_lexer": "ipython3",
   "version": "3.7.6"
  }
 },
 "nbformat": 4,
 "nbformat_minor": 4
}
